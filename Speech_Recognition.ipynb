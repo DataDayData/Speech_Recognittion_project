{
 "cells": [
  {
   "cell_type": "code",
   "execution_count": 53,
   "id": "a1d5c6b1",
   "metadata": {},
   "outputs": [],
   "source": [
    "import speech_recognition as sr\n",
    "import pyaudio\n",
    "from gtts import gTTS\n",
    "import os"
   ]
  },
  {
   "cell_type": "code",
   "execution_count": 54,
   "id": "607fc5de",
   "metadata": {},
   "outputs": [],
   "source": [
    "# Create an instance of the Recognizer class\n",
    "recorder = sr.Recognizer()"
   ]
  },
  {
   "cell_type": "code",
   "execution_count": 55,
   "id": "02e24d9a",
   "metadata": {},
   "outputs": [
    {
     "name": "stdout",
     "output_type": "stream",
     "text": [
      "hello, talk to me :)\n",
      "I heard your voice.......\n",
      "I hope you are doing well\n"
     ]
    }
   ],
   "source": [
    "# Speech recognition using microphone input\n",
    "with sr.Microphone() as voice:\n",
    "    print(\"hello, talk to me :)\")  # Prompt the user to speak\n",
    "    audio = recorder.record(voice, duration=5)  # Record audio for 3 seconds\n",
    "    print(\"I heard your voice.......\")  # Indicate that the audio is recorded\n",
    "    text = recorder.recognize_google(audio)  # Convert the audio to text\n",
    "    print(text)  # Print the transcribed text\n"
   ]
  },
  {
   "cell_type": "code",
   "execution_count": 56,
   "id": "2265ff21",
   "metadata": {},
   "outputs": [],
   "source": [
    "# Convert the text to speech using gTTS\n",
    "the_record = gTTS(text=text, lang=\"en\", slow=False)\n",
    "the_record.save(\"voice_file.mp3\")  # Save the speech as an MP3 file\n"
   ]
  },
  {
   "cell_type": "code",
   "execution_count": 59,
   "id": "27b6b1fe",
   "metadata": {},
   "outputs": [
    {
     "data": {
      "text/plain": [
       "0"
      ]
     },
     "execution_count": 59,
     "metadata": {},
     "output_type": "execute_result"
    }
   ],
   "source": [
    "# Play the generated audio file\n",
    "os.system(\"start voice_file.mp3\")"
   ]
  },
  {
   "cell_type": "code",
   "execution_count": null,
   "id": "800939af",
   "metadata": {},
   "outputs": [],
   "source": []
  }
 ],
 "metadata": {
  "kernelspec": {
   "display_name": "Python 3 (ipykernel)",
   "language": "python",
   "name": "python3"
  },
  "language_info": {
   "codemirror_mode": {
    "name": "ipython",
    "version": 3
   },
   "file_extension": ".py",
   "mimetype": "text/x-python",
   "name": "python",
   "nbconvert_exporter": "python",
   "pygments_lexer": "ipython3",
   "version": "3.10.9"
  }
 },
 "nbformat": 4,
 "nbformat_minor": 5
}
